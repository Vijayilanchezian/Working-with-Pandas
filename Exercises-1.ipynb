{
 "cells": [
  {
   "cell_type": "code",
   "execution_count": 1,
   "metadata": {},
   "outputs": [],
   "source": [
    "%matplotlib inline\n",
    "import pandas as pd"
   ]
  },
  {
   "cell_type": "code",
   "execution_count": 3,
   "metadata": {},
   "outputs": [
    {
     "data": {
      "text/html": [
       "<div>\n",
       "<style scoped>\n",
       "    .dataframe tbody tr th:only-of-type {\n",
       "        vertical-align: middle;\n",
       "    }\n",
       "\n",
       "    .dataframe tbody tr th {\n",
       "        vertical-align: top;\n",
       "    }\n",
       "\n",
       "    .dataframe thead th {\n",
       "        text-align: right;\n",
       "    }\n",
       "</style>\n",
       "<table border=\"1\" class=\"dataframe\">\n",
       "  <thead>\n",
       "    <tr style=\"text-align: right;\">\n",
       "      <th></th>\n",
       "      <th>title</th>\n",
       "      <th>year</th>\n",
       "      <th>name</th>\n",
       "      <th>type</th>\n",
       "      <th>character</th>\n",
       "      <th>n</th>\n",
       "    </tr>\n",
       "  </thead>\n",
       "  <tbody>\n",
       "    <tr>\n",
       "      <th>0</th>\n",
       "      <td>Closet Monster</td>\n",
       "      <td>2015</td>\n",
       "      <td>Buffy #1</td>\n",
       "      <td>actor</td>\n",
       "      <td>Buffy 4</td>\n",
       "      <td>NaN</td>\n",
       "    </tr>\n",
       "    <tr>\n",
       "      <th>1</th>\n",
       "      <td>Suuri illusioni</td>\n",
       "      <td>1985</td>\n",
       "      <td>Homo $</td>\n",
       "      <td>actor</td>\n",
       "      <td>Guests</td>\n",
       "      <td>22.0</td>\n",
       "    </tr>\n",
       "    <tr>\n",
       "      <th>2</th>\n",
       "      <td>Battle of the Sexes</td>\n",
       "      <td>2017</td>\n",
       "      <td>$hutter</td>\n",
       "      <td>actor</td>\n",
       "      <td>Bobby Riggs Fan</td>\n",
       "      <td>10.0</td>\n",
       "    </tr>\n",
       "    <tr>\n",
       "      <th>3</th>\n",
       "      <td>Secret in Their Eyes</td>\n",
       "      <td>2015</td>\n",
       "      <td>$hutter</td>\n",
       "      <td>actor</td>\n",
       "      <td>2002 Dodger Fan</td>\n",
       "      <td>NaN</td>\n",
       "    </tr>\n",
       "    <tr>\n",
       "      <th>4</th>\n",
       "      <td>Steve Jobs</td>\n",
       "      <td>2015</td>\n",
       "      <td>$hutter</td>\n",
       "      <td>actor</td>\n",
       "      <td>1988 Opera House Patron</td>\n",
       "      <td>NaN</td>\n",
       "    </tr>\n",
       "  </tbody>\n",
       "</table>\n",
       "</div>"
      ],
      "text/plain": [
       "                  title  year      name   type                character     n\n",
       "0        Closet Monster  2015  Buffy #1  actor                  Buffy 4   NaN\n",
       "1       Suuri illusioni  1985    Homo $  actor                   Guests  22.0\n",
       "2   Battle of the Sexes  2017   $hutter  actor          Bobby Riggs Fan  10.0\n",
       "3  Secret in Their Eyes  2015   $hutter  actor          2002 Dodger Fan   NaN\n",
       "4            Steve Jobs  2015   $hutter  actor  1988 Opera House Patron   NaN"
      ]
     },
     "execution_count": 3,
     "metadata": {},
     "output_type": "execute_result"
    }
   ],
   "source": [
    "cast = pd.read_csv('C:/Vijay/Data Science/Projects & Assignments/Assignments/2.ML_Python/cast.csv')\n",
    "cast.head()"
   ]
  },
  {
   "cell_type": "markdown",
   "metadata": {
    "collapsed": true
   },
   "source": [
    "### How many movies are listed in the titles dataframe?"
   ]
  },
  {
   "cell_type": "code",
   "execution_count": 8,
   "metadata": {},
   "outputs": [],
   "source": [
    "num_movies = cast.shape[0]"
   ]
  },
  {
   "cell_type": "code",
   "execution_count": 9,
   "metadata": {},
   "outputs": [
    {
     "name": "stdout",
     "output_type": "stream",
     "text": [
      "The number of movies in the titles DataFrame is: 3611212\n"
     ]
    }
   ],
   "source": [
    "print(f'The number of movies in the titles DataFrame is: {num_movies}')"
   ]
  },
  {
   "cell_type": "markdown",
   "metadata": {
    "collapsed": true
   },
   "source": [
    "### What are the earliest two films listed in the titles dataframe?"
   ]
  },
  {
   "cell_type": "code",
   "execution_count": 10,
   "metadata": {},
   "outputs": [],
   "source": [
    "cast_sorted = cast.sort_values(by='year')"
   ]
  },
  {
   "cell_type": "code",
   "execution_count": 15,
   "metadata": {},
   "outputs": [
    {
     "name": "stdout",
     "output_type": "stream",
     "text": [
      "The earliest two films listed are:\n",
      "              title  year             name     type  \\\n",
      "2514470  Miss Jerry  1894  Blanche Bayliss  actress   \n",
      "555929   Miss Jerry  1894   Chauncey Depew    actor   \n",
      "\n",
      "                                                 character   n  \n",
      "2514470               Miss Geraldine Holbrook (Miss Jerry) NaN  \n",
      "555929   Himself - the Director of the New York Central... NaN  \n"
     ]
    }
   ],
   "source": [
    "earliest_films = cast_sorted.head(2)\n",
    "print(\"The earliest two films listed are:\")\n",
    "print(earliest_films)"
   ]
  },
  {
   "cell_type": "markdown",
   "metadata": {
    "collapsed": true
   },
   "source": [
    "### How many movies have the title \"Hamlet\"?"
   ]
  },
  {
   "cell_type": "code",
   "execution_count": 17,
   "metadata": {},
   "outputs": [],
   "source": [
    "cast_counts = cast['title'].value_counts()"
   ]
  },
  {
   "cell_type": "code",
   "execution_count": 18,
   "metadata": {},
   "outputs": [
    {
     "name": "stdout",
     "output_type": "stream",
     "text": [
      "The number of movies with the title \"Hamlet\" is: 313\n"
     ]
    }
   ],
   "source": [
    "hamlet_count = cast_counts.get('Hamlet', 0)\n",
    "print(f'The number of movies with the title \"Hamlet\" is: {hamlet_count}')"
   ]
  },
  {
   "cell_type": "markdown",
   "metadata": {
    "collapsed": true
   },
   "source": [
    "### How many movies are titled \"North by Northwest\"?"
   ]
  },
  {
   "cell_type": "code",
   "execution_count": 19,
   "metadata": {},
   "outputs": [],
   "source": [
    "north_by_northwest_count = cast[cast['title'] == 'North by Northwest'].shape[0]"
   ]
  },
  {
   "cell_type": "code",
   "execution_count": 20,
   "metadata": {},
   "outputs": [
    {
     "name": "stdout",
     "output_type": "stream",
     "text": [
      "The number of movies titled \"North by Northwest\" is: 112\n"
     ]
    }
   ],
   "source": [
    "print(f'The number of movies titled \"North by Northwest\" is: {north_by_northwest_count}')"
   ]
  },
  {
   "cell_type": "markdown",
   "metadata": {
    "collapsed": true
   },
   "source": [
    "### When was the first movie titled \"Hamlet\" made?"
   ]
  },
  {
   "cell_type": "code",
   "execution_count": 21,
   "metadata": {},
   "outputs": [],
   "source": [
    "hamlet_movies = cast[cast['title'] == 'Hamlet']"
   ]
  },
  {
   "cell_type": "code",
   "execution_count": 23,
   "metadata": {},
   "outputs": [
    {
     "name": "stdout",
     "output_type": "stream",
     "text": [
      "The first movie titled \"Hamlet\" was made in the year: 1910\n"
     ]
    }
   ],
   "source": [
    "earliest_hamlet_year = hamlet_movies['year'].min()\n",
    "print(f'The first movie titled \"Hamlet\" was made in the year: {earliest_hamlet_year}')"
   ]
  },
  {
   "cell_type": "markdown",
   "metadata": {
    "collapsed": true
   },
   "source": [
    "### List all of the \"Treasure Island\" movies from earliest to most recent."
   ]
  },
  {
   "cell_type": "code",
   "execution_count": 24,
   "metadata": {},
   "outputs": [],
   "source": [
    "treasure_island_movies = cast[cast['title'] == 'Treasure Island']"
   ]
  },
  {
   "cell_type": "code",
   "execution_count": 25,
   "metadata": {},
   "outputs": [
    {
     "name": "stdout",
     "output_type": "stream",
     "text": [
      "List of 'Treasure Island' movies from earliest to most recent:\n",
      "                   title  year                  name     type  \\\n",
      "830114   Treasure Island  1918        Charles Gorman    actor   \n",
      "840745   Treasure Island  1918             Joe Grant    actor   \n",
      "909157   Treasure Island  1918          Edwin Harley    actor   \n",
      "3298306  Treasure Island  1918      Violet Radcliffe  actress   \n",
      "1715014  Treasure Island  1918            Lloyd Perl    actor   \n",
      "...                  ...   ...                   ...      ...   \n",
      "2420089  Treasure Island  1999          Caveh Zahedi    actor   \n",
      "1637661  Treasure Island  1999         Nick Offerman    actor   \n",
      "1375015  Treasure Island  1999           J.P. Manoux    actor   \n",
      "1797264  Treasure Island  1999  Victor Raider-Wexler    actor   \n",
      "307749   Treasure Island  1999          Bob Byington    actor   \n",
      "\n",
      "                       character     n  \n",
      "830114           Prologue Player   NaN  \n",
      "840745   Undetermined child role   NaN  \n",
      "909157           Prologue Player   NaN  \n",
      "3298306         Long John Silver   3.0  \n",
      "1715014                Black Dog   4.0  \n",
      "...                          ...   ...  \n",
      "2420089                   Harold   9.0  \n",
      "1637661                   Samuel   2.0  \n",
      "1375015           Officer Hughes  18.0  \n",
      "1797264                 Samowitz  10.0  \n",
      "307749                    Thomas  12.0  \n",
      "\n",
      "[190 rows x 6 columns]\n"
     ]
    }
   ],
   "source": [
    "treasure_island_movies_sorted = treasure_island_movies.sort_values(by='year')\n",
    "print(\"List of 'Treasure Island' movies from earliest to most recent:\")\n",
    "print(treasure_island_movies_sorted)"
   ]
  },
  {
   "cell_type": "markdown",
   "metadata": {
    "collapsed": true
   },
   "source": [
    "### How many movies were made in the year 1950?"
   ]
  },
  {
   "cell_type": "code",
   "execution_count": 26,
   "metadata": {},
   "outputs": [],
   "source": [
    "movies_1950 = cast[cast['year'] == 1950]"
   ]
  },
  {
   "cell_type": "code",
   "execution_count": 27,
   "metadata": {},
   "outputs": [
    {
     "name": "stdout",
     "output_type": "stream",
     "text": [
      "The number of movies made in the year 1950 is: 22006\n"
     ]
    }
   ],
   "source": [
    "num_movies_1950 = movies_1950.shape[0]\n",
    "print(f'The number of movies made in the year 1950 is: {num_movies_1950}')"
   ]
  },
  {
   "cell_type": "markdown",
   "metadata": {
    "collapsed": true
   },
   "source": [
    "### How many movies were made in the year 1960?"
   ]
  },
  {
   "cell_type": "code",
   "execution_count": 28,
   "metadata": {},
   "outputs": [],
   "source": [
    "movies_1960 = cast[cast['year'] == 1960]"
   ]
  },
  {
   "cell_type": "code",
   "execution_count": 29,
   "metadata": {},
   "outputs": [
    {
     "name": "stdout",
     "output_type": "stream",
     "text": [
      "The number of movies made in the year 1960 is: 18456\n"
     ]
    }
   ],
   "source": [
    "num_movies_1960 = movies_1960.shape[0]\n",
    "print(f'The number of movies made in the year 1960 is: {num_movies_1960}')"
   ]
  },
  {
   "cell_type": "markdown",
   "metadata": {
    "collapsed": true
   },
   "source": [
    "### How many movies were made from 1950 through 1959?"
   ]
  },
  {
   "cell_type": "code",
   "execution_count": 30,
   "metadata": {},
   "outputs": [],
   "source": [
    "movies_1950s = cast[(cast['year'] >= 1950) & (cast['year'] <= 1959)]"
   ]
  },
  {
   "cell_type": "code",
   "execution_count": 31,
   "metadata": {},
   "outputs": [
    {
     "name": "stdout",
     "output_type": "stream",
     "text": [
      "The number of movies made from 1950 through 1959 is: 210986\n"
     ]
    }
   ],
   "source": [
    "num_movies_1950s = movies_1950s.shape[0]\n",
    "print(f'The number of movies made from 1950 through 1959 is: {num_movies_1950s}')"
   ]
  },
  {
   "cell_type": "markdown",
   "metadata": {
    "collapsed": true
   },
   "source": [
    "### In what years has a movie titled \"Batman\" been released?"
   ]
  },
  {
   "cell_type": "code",
   "execution_count": 32,
   "metadata": {},
   "outputs": [],
   "source": [
    "batman_movies = cast[cast['title'] == 'Batman']"
   ]
  },
  {
   "cell_type": "code",
   "execution_count": 33,
   "metadata": {},
   "outputs": [
    {
     "name": "stdout",
     "output_type": "stream",
     "text": [
      "The movie \"Batman\" has been released in the following years: [1943 1989]\n"
     ]
    }
   ],
   "source": [
    "years_batman_movies = batman_movies['year'].unique()\n",
    "print(f'The movie \"Batman\" has been released in the following years: {years_batman_movies}')"
   ]
  },
  {
   "cell_type": "markdown",
   "metadata": {
    "collapsed": true
   },
   "source": [
    "### How many roles were there in the movie \"Inception\"?"
   ]
  },
  {
   "cell_type": "code",
   "execution_count": 34,
   "metadata": {},
   "outputs": [],
   "source": [
    "inception_roles = cast[cast['title'] == 'Inception']"
   ]
  },
  {
   "cell_type": "code",
   "execution_count": 35,
   "metadata": {},
   "outputs": [
    {
     "name": "stdout",
     "output_type": "stream",
     "text": [
      "The number of roles in the movie \"Inception\" is: 77\n"
     ]
    }
   ],
   "source": [
    "num_roles_inception = inception_roles.shape[0]\n",
    "print(f'The number of roles in the movie \"Inception\" is: {num_roles_inception}')"
   ]
  },
  {
   "cell_type": "markdown",
   "metadata": {
    "collapsed": true
   },
   "source": [
    "### How many roles in the movie \"Inception\" are NOT ranked by an \"n\" value?"
   ]
  },
  {
   "cell_type": "code",
   "execution_count": 36,
   "metadata": {},
   "outputs": [],
   "source": [
    "inception_roles_no_ranking = cast[(cast['title'] == 'Inception') & (cast['n'].isnull())]"
   ]
  },
  {
   "cell_type": "code",
   "execution_count": 37,
   "metadata": {},
   "outputs": [
    {
     "name": "stdout",
     "output_type": "stream",
     "text": [
      "The number of roles in the movie \"Inception\" without ranking is: 26\n"
     ]
    }
   ],
   "source": [
    "num_roles_no_ranking = inception_roles_no_ranking.shape[0]\n",
    "\n",
    "print(f'The number of roles in the movie \"Inception\" without ranking is: {num_roles_no_ranking}')"
   ]
  },
  {
   "cell_type": "markdown",
   "metadata": {
    "collapsed": true
   },
   "source": [
    "### But how many roles in the movie \"Inception\" did receive an \"n\" value?"
   ]
  },
  {
   "cell_type": "code",
   "execution_count": 38,
   "metadata": {},
   "outputs": [],
   "source": [
    "inception_roles_with_ranking = cast[(cast['title'] == 'Inception') & ~cast['n'].isnull()]"
   ]
  },
  {
   "cell_type": "code",
   "execution_count": 39,
   "metadata": {},
   "outputs": [
    {
     "name": "stdout",
     "output_type": "stream",
     "text": [
      "The number of roles in the movie \"Inception\" with ranking is: 51\n"
     ]
    }
   ],
   "source": [
    "num_roles_with_ranking = inception_roles_with_ranking.shape[0]\n",
    "\n",
    "print(f'The number of roles in the movie \"Inception\" with ranking is: {num_roles_with_ranking}')"
   ]
  },
  {
   "cell_type": "markdown",
   "metadata": {
    "collapsed": true
   },
   "source": [
    "### Display the cast of \"North by Northwest\" in their correct \"n\"-value order, ignoring roles that did not earn a numeric \"n\" value."
   ]
  },
  {
   "cell_type": "code",
   "execution_count": 40,
   "metadata": {},
   "outputs": [],
   "source": [
    "north_by_northwest_cast = cast[(cast['title'] == 'North by Northwest') & cast['n'].notnull() & cast['n'].astype(str).str.isnumeric()]"
   ]
  },
  {
   "cell_type": "code",
   "execution_count": 41,
   "metadata": {},
   "outputs": [],
   "source": [
    "north_by_northwest_cast['n'] = pd.to_numeric(north_by_northwest_cast['n'])"
   ]
  },
  {
   "cell_type": "code",
   "execution_count": 42,
   "metadata": {},
   "outputs": [
    {
     "name": "stdout",
     "output_type": "stream",
     "text": [
      "The cast of \"North by Northwest\" in their correct \"n\"-value order:\n",
      "Empty DataFrame\n",
      "Columns: [n, name, character]\n",
      "Index: []\n"
     ]
    }
   ],
   "source": [
    "north_by_northwest_cast_sorted = north_by_northwest_cast.sort_values(by='n')\n",
    "print('The cast of \"North by Northwest\" in their correct \"n\"-value order:')\n",
    "print(north_by_northwest_cast_sorted[['n', 'name', 'character']])"
   ]
  },
  {
   "cell_type": "markdown",
   "metadata": {
    "collapsed": true
   },
   "source": [
    "### Display the entire cast, in \"n\"-order, of the 1972 film \"Sleuth\"."
   ]
  },
  {
   "cell_type": "code",
   "execution_count": 43,
   "metadata": {},
   "outputs": [],
   "source": [
    "sleuth_1972_cast = cast[(cast['title'] == 'Sleuth') & (cast['year'] == 1972) & cast['n'].notnull() & cast['n'].astype(str).str.isnumeric()]"
   ]
  },
  {
   "cell_type": "code",
   "execution_count": 44,
   "metadata": {},
   "outputs": [],
   "source": [
    "sleuth_1972_cast['n'] = pd.to_numeric(sleuth_1972_cast['n'])"
   ]
  },
  {
   "cell_type": "code",
   "execution_count": 45,
   "metadata": {},
   "outputs": [
    {
     "name": "stdout",
     "output_type": "stream",
     "text": [
      "The entire cast of the 1972 film \"Sleuth\" in \"n\"-value order:\n",
      "Empty DataFrame\n",
      "Columns: [n, name, character]\n",
      "Index: []\n"
     ]
    }
   ],
   "source": [
    "sleuth_1972_cast_sorted = sleuth_1972_cast.sort_values(by='n')\n",
    "print('The entire cast of the 1972 film \"Sleuth\" in \"n\"-value order:')\n",
    "print(sleuth_1972_cast_sorted[['n', 'name', 'character']])"
   ]
  },
  {
   "cell_type": "markdown",
   "metadata": {
    "collapsed": true
   },
   "source": [
    "### Now display the entire cast, in \"n\"-order, of the 2007 version of \"Sleuth\"."
   ]
  },
  {
   "cell_type": "code",
   "execution_count": 47,
   "metadata": {},
   "outputs": [],
   "source": [
    "sleuth_2007_cast = cast[(cast['title'] == 'Sleuth') & (cast['year'] == 2007) & cast['n'].notnull() & cast['n'].astype(str).str.isnumeric()]"
   ]
  },
  {
   "cell_type": "code",
   "execution_count": 48,
   "metadata": {},
   "outputs": [],
   "source": [
    "sleuth_2007_cast['n'] = pd.to_numeric(sleuth_2007_cast['n'])"
   ]
  },
  {
   "cell_type": "code",
   "execution_count": 49,
   "metadata": {},
   "outputs": [
    {
     "name": "stdout",
     "output_type": "stream",
     "text": [
      "The entire cast of the 2007 film \"Sleuth\" in \"n\"-value order:\n",
      "Empty DataFrame\n",
      "Columns: [n, name, character]\n",
      "Index: []\n"
     ]
    }
   ],
   "source": [
    "sleuth_2007_cast_sorted = sleuth_2007_cast.sort_values(by='n')\n",
    "print('The entire cast of the 2007 film \"Sleuth\" in \"n\"-value order:')\n",
    "print(sleuth_2007_cast_sorted[['n', 'name', 'character']])"
   ]
  },
  {
   "cell_type": "markdown",
   "metadata": {
    "collapsed": true
   },
   "source": [
    "### How many roles were credited in the silent 1921 version of Hamlet?"
   ]
  },
  {
   "cell_type": "code",
   "execution_count": 50,
   "metadata": {},
   "outputs": [],
   "source": [
    "hamlet_1921_roles = cast[(cast['title'] == 'Hamlet') & (cast['year'] == 1921)]"
   ]
  },
  {
   "cell_type": "code",
   "execution_count": 51,
   "metadata": {},
   "outputs": [
    {
     "name": "stdout",
     "output_type": "stream",
     "text": [
      "The number of credited roles in the silent 1921 version of \"Hamlet\" is: 9\n"
     ]
    }
   ],
   "source": [
    "num_roles_hamlet_1921 = hamlet_1921_roles.shape[0]\n",
    "\n",
    "print(f'The number of credited roles in the silent 1921 version of \"Hamlet\" is: {num_roles_hamlet_1921}')"
   ]
  },
  {
   "cell_type": "markdown",
   "metadata": {
    "collapsed": true
   },
   "source": [
    "### How many roles were credited in Branagh’s 1996 Hamlet?"
   ]
  },
  {
   "cell_type": "code",
   "execution_count": 52,
   "metadata": {},
   "outputs": [],
   "source": [
    "hamlet_1996_roles = cast[(cast['title'] == 'Hamlet') & (cast['year'] == 1996)]"
   ]
  },
  {
   "cell_type": "code",
   "execution_count": 53,
   "metadata": {},
   "outputs": [
    {
     "name": "stdout",
     "output_type": "stream",
     "text": [
      "The number of credited roles in Kenneth Branagh's 1996 version of \"Hamlet\" is: 54\n"
     ]
    }
   ],
   "source": [
    "num_roles_hamlet_1996 = hamlet_1996_roles.shape[0]\n",
    "\n",
    "print(f'The number of credited roles in Kenneth Branagh\\'s 1996 version of \"Hamlet\" is: {num_roles_hamlet_1996}')"
   ]
  },
  {
   "cell_type": "markdown",
   "metadata": {
    "collapsed": true
   },
   "source": [
    "### How many \"Hamlet\" roles have been listed in all film credits through history?"
   ]
  },
  {
   "cell_type": "code",
   "execution_count": 54,
   "metadata": {},
   "outputs": [],
   "source": [
    "all_hamlet_roles = cast[cast['title'] == 'Hamlet']"
   ]
  },
  {
   "cell_type": "code",
   "execution_count": 55,
   "metadata": {},
   "outputs": [
    {
     "name": "stdout",
     "output_type": "stream",
     "text": [
      "The total number of \"Hamlet\" roles listed in all film credits through history is: 313\n"
     ]
    }
   ],
   "source": [
    "num_roles_all_hamlet = all_hamlet_roles.shape[0]\n",
    "\n",
    "print(f'The total number of \"Hamlet\" roles listed in all film credits through history is: {num_roles_all_hamlet}')"
   ]
  },
  {
   "cell_type": "markdown",
   "metadata": {
    "collapsed": true
   },
   "source": [
    "### How many people have played an \"Ophelia\"?"
   ]
  },
  {
   "cell_type": "code",
   "execution_count": 56,
   "metadata": {},
   "outputs": [],
   "source": [
    "ophelia_roles = cast[cast['character'] == 'Ophelia']"
   ]
  },
  {
   "cell_type": "code",
   "execution_count": 57,
   "metadata": {},
   "outputs": [
    {
     "name": "stdout",
     "output_type": "stream",
     "text": [
      "The number of people who have played the role of \"Ophelia\" is: 109\n"
     ]
    }
   ],
   "source": [
    "num_ophelia_actors = ophelia_roles['name'].nunique()\n",
    "\n",
    "print(f'The number of people who have played the role of \"Ophelia\" is: {num_ophelia_actors}')"
   ]
  },
  {
   "cell_type": "markdown",
   "metadata": {
    "collapsed": true
   },
   "source": [
    "### How many people have played a role called \"The Dude\"?"
   ]
  },
  {
   "cell_type": "code",
   "execution_count": 58,
   "metadata": {},
   "outputs": [],
   "source": [
    "the_dude_roles = cast[cast['character'] == 'The Dude']"
   ]
  },
  {
   "cell_type": "code",
   "execution_count": 59,
   "metadata": {},
   "outputs": [
    {
     "name": "stdout",
     "output_type": "stream",
     "text": [
      "The number of people who have played the role of \"The Dude\" is: 18\n"
     ]
    }
   ],
   "source": [
    "num_the_dude_actors = the_dude_roles['name'].nunique()\n",
    "\n",
    "print(f'The number of people who have played the role of \"The Dude\" is: {num_the_dude_actors}')"
   ]
  },
  {
   "cell_type": "markdown",
   "metadata": {
    "collapsed": true
   },
   "source": [
    "### How many people have played a role called \"The Stranger\"?"
   ]
  },
  {
   "cell_type": "code",
   "execution_count": 60,
   "metadata": {},
   "outputs": [],
   "source": [
    "the_stranger_roles = cast[cast['character'] == 'The Stranger']"
   ]
  },
  {
   "cell_type": "code",
   "execution_count": 61,
   "metadata": {},
   "outputs": [
    {
     "name": "stdout",
     "output_type": "stream",
     "text": [
      "The number of people who have played the role of \"The Stranger\" is: 197\n"
     ]
    }
   ],
   "source": [
    "num_the_stranger_actors = the_stranger_roles['name'].nunique()\n",
    "\n",
    "print(f'The number of people who have played the role of \"The Stranger\" is: {num_the_stranger_actors}')"
   ]
  },
  {
   "cell_type": "markdown",
   "metadata": {
    "collapsed": true
   },
   "source": [
    "### How many roles has Sidney Poitier played throughout his career?"
   ]
  },
  {
   "cell_type": "code",
   "execution_count": 62,
   "metadata": {},
   "outputs": [],
   "source": [
    "sidney_poitier_roles = cast[cast['name'] == 'Sidney Poitier']"
   ]
  },
  {
   "cell_type": "code",
   "execution_count": 63,
   "metadata": {},
   "outputs": [
    {
     "name": "stdout",
     "output_type": "stream",
     "text": [
      "Sidney Poitier has played 41 roles throughout his career.\n"
     ]
    }
   ],
   "source": [
    "num_sidney_poitier_roles = sidney_poitier_roles['character'].nunique()\n",
    "\n",
    "print(f'Sidney Poitier has played {num_sidney_poitier_roles} roles throughout his career.')"
   ]
  },
  {
   "cell_type": "markdown",
   "metadata": {
    "collapsed": true
   },
   "source": [
    "### How many roles has Judi Dench played?"
   ]
  },
  {
   "cell_type": "code",
   "execution_count": 64,
   "metadata": {},
   "outputs": [],
   "source": [
    "judi_dench_roles = cast[cast['name'] == 'Judi Dench']"
   ]
  },
  {
   "cell_type": "code",
   "execution_count": 65,
   "metadata": {},
   "outputs": [
    {
     "name": "stdout",
     "output_type": "stream",
     "text": [
      "Judi Dench has played 46 roles throughout her career.\n"
     ]
    }
   ],
   "source": [
    "num_judi_dench_roles = judi_dench_roles['character'].nunique()\n",
    "\n",
    "print(f'Judi Dench has played {num_judi_dench_roles} roles throughout her career.')"
   ]
  },
  {
   "cell_type": "markdown",
   "metadata": {
    "collapsed": true
   },
   "source": [
    "### List the supporting roles (having n=2) played by Cary Grant in the 1940s, in order by year."
   ]
  },
  {
   "cell_type": "code",
   "execution_count": 67,
   "metadata": {},
   "outputs": [],
   "source": [
    "cary_grant_supporting_roles_1940s = cast[\n",
    "    (cast['name'] == 'Cary Grant') & \n",
    "    (cast['n'] == 2) & \n",
    "    (cast['year'].between(1940, 1949))]"
   ]
  },
  {
   "cell_type": "code",
   "execution_count": 68,
   "metadata": {},
   "outputs": [
    {
     "name": "stdout",
     "output_type": "stream",
     "text": [
      "Cary Grant's supporting roles with n=2 in the 1940s:\n",
      "        year             title    character\n",
      "840371  1940  My Favorite Wife         Nick\n",
      "840381  1941    Penny Serenade  Roger Adams\n"
     ]
    }
   ],
   "source": [
    "cary_grant_supporting_roles_1940s_sorted = cary_grant_supporting_roles_1940s.sort_values(by='year')\n",
    "print('Cary Grant\\'s supporting roles with n=2 in the 1940s:')\n",
    "print(cary_grant_supporting_roles_1940s_sorted[['year', 'title', 'character']])"
   ]
  },
  {
   "cell_type": "markdown",
   "metadata": {
    "collapsed": true
   },
   "source": [
    "### List the leading roles that Cary Grant played in the 1940s in order by year."
   ]
  },
  {
   "cell_type": "code",
   "execution_count": 69,
   "metadata": {},
   "outputs": [],
   "source": [
    "cary_grant_leading_roles_1940s = cast[\n",
    "    (cast['name'] == 'Cary Grant') & \n",
    "    (cast['n'] == 1) & \n",
    "    (cast['year'].between(1940, 1949))\n",
    "]"
   ]
  },
  {
   "cell_type": "code",
   "execution_count": 70,
   "metadata": {},
   "outputs": [
    {
     "name": "stdout",
     "output_type": "stream",
     "text": [
      "Cary Grant's leading roles in the 1940s:\n",
      "        year                                 title              character\n",
      "840397  1940               The Howards of Virginia            Matt Howard\n",
      "840353  1940                       His Girl Friday           Walter Burns\n",
      "840399  1940                The Philadelphia Story     C. K. Dexter Haven\n",
      "840386  1941                             Suspicion                Johnnie\n",
      "840401  1942                  The Talk of the Town           Leopold Dilg\n",
      "840377  1942                 Once Upon a Honeymoon  Patrick 'Pat' O'Toole\n",
      "840344  1943                     Destination Tokyo          Capt. Cassidy\n",
      "840369  1943                             Mr. Lucky              Joe Adams\n",
      "840370  1943                             Mr. Lucky        Joe Bascopolous\n",
      "840378  1944                      Once Upon a Time            Jerry Flynn\n",
      "840336  1944                  Arsenic and Old Lace      Mortimer Brewster\n",
      "840373  1944             None But the Lonely Heart             Ernie Mott\n",
      "840372  1946                         Night and Day            Cole Porter\n",
      "840375  1946                             Notorious                 Devlin\n",
      "840393  1947      The Bachelor and the Bobby-Soxer            Dick Nugent\n",
      "840394  1947                     The Bishop's Wife                 Dudley\n",
      "840368  1948  Mr. Blandings Builds His Dream House          Jim Blandings\n",
      "840348  1948          Every Girl Should Be Married      Dr. Madison Brown\n",
      "840357  1949                I Was a Male War Bride  Captain Henri Rochard\n"
     ]
    }
   ],
   "source": [
    "cary_grant_leading_roles_1940s_sorted = cary_grant_leading_roles_1940s.sort_values(by='year')\n",
    "print('Cary Grant\\'s leading roles in the 1940s:')\n",
    "print(cary_grant_leading_roles_1940s_sorted[['year', 'title', 'character']])"
   ]
  },
  {
   "cell_type": "markdown",
   "metadata": {
    "collapsed": true
   },
   "source": [
    "### How many roles were available for actors in the 1950s?"
   ]
  },
  {
   "cell_type": "code",
   "execution_count": 71,
   "metadata": {},
   "outputs": [],
   "source": [
    "roles_1950s = cast[cast['year'].between(1950, 1959)]"
   ]
  },
  {
   "cell_type": "code",
   "execution_count": 72,
   "metadata": {},
   "outputs": [
    {
     "name": "stdout",
     "output_type": "stream",
     "text": [
      "The number of roles available for actors in the 1950s is: 125866\n"
     ]
    }
   ],
   "source": [
    "num_roles_1950s = roles_1950s['character'].nunique()\n",
    "\n",
    "print(f'The number of roles available for actors in the 1950s is: {num_roles_1950s}')"
   ]
  },
  {
   "cell_type": "markdown",
   "metadata": {
    "collapsed": true
   },
   "source": [
    "### How many roles were available for actresses in the 1950s?"
   ]
  },
  {
   "cell_type": "code",
   "execution_count": 73,
   "metadata": {},
   "outputs": [],
   "source": [
    "actress_roles_1950s = cast[(cast['year'].between(1950, 1959)) & (cast['type'] == 'actress')]"
   ]
  },
  {
   "cell_type": "code",
   "execution_count": 74,
   "metadata": {},
   "outputs": [
    {
     "name": "stdout",
     "output_type": "stream",
     "text": [
      "The number of roles available for actresses in the 1950s is: 35432\n"
     ]
    }
   ],
   "source": [
    "num_actress_roles_1950s = actress_roles_1950s['character'].nunique()\n",
    "\n",
    "print(f'The number of roles available for actresses in the 1950s is: {num_actress_roles_1950s}')"
   ]
  },
  {
   "cell_type": "markdown",
   "metadata": {
    "collapsed": true
   },
   "source": [
    "### How many leading roles (n=1) were available from the beginning of film history through 1980?"
   ]
  },
  {
   "cell_type": "code",
   "execution_count": 75,
   "metadata": {},
   "outputs": [],
   "source": [
    "leading_roles_until_1980 = cast[(cast['n'] == 1) & (cast['year'] <= 1980)]"
   ]
  },
  {
   "cell_type": "code",
   "execution_count": 76,
   "metadata": {},
   "outputs": [
    {
     "name": "stdout",
     "output_type": "stream",
     "text": [
      "The number of leading roles available from the beginning of film history through 1980 is: 51200\n"
     ]
    }
   ],
   "source": [
    "num_leading_roles_until_1980 = leading_roles_until_1980['character'].nunique()\n",
    "\n",
    "print(f'The number of leading roles available from the beginning of film history through 1980 is: {num_leading_roles_until_1980}')"
   ]
  },
  {
   "cell_type": "markdown",
   "metadata": {
    "collapsed": true
   },
   "source": [
    "### How many non-leading roles were available through from the beginning of film history through 1980?"
   ]
  },
  {
   "cell_type": "code",
   "execution_count": 77,
   "metadata": {},
   "outputs": [],
   "source": [
    "non_leading_roles_until_1980 = cast[(cast['n'] != 1) & (cast['year'] <= 1980)]"
   ]
  },
  {
   "cell_type": "code",
   "execution_count": 78,
   "metadata": {},
   "outputs": [
    {
     "name": "stdout",
     "output_type": "stream",
     "text": [
      "The number of non-leading roles available from the beginning of film history through 1980 is: 558711\n"
     ]
    }
   ],
   "source": [
    "num_non_leading_roles_until_1980 = non_leading_roles_until_1980['character'].nunique()\n",
    "\n",
    "print(f'The number of non-leading roles available from the beginning of film history through 1980 is: {num_non_leading_roles_until_1980}')"
   ]
  },
  {
   "cell_type": "markdown",
   "metadata": {
    "collapsed": true
   },
   "source": [
    "### How many roles through 1980 were minor enough that they did not warrant a numeric \"n\" rank?"
   ]
  },
  {
   "cell_type": "code",
   "execution_count": 79,
   "metadata": {},
   "outputs": [],
   "source": [
    "minor_roles_until_1980 = cast[(cast['n'].isnull()) & (cast['year'] <= 1980)]"
   ]
  },
  {
   "cell_type": "code",
   "execution_count": 80,
   "metadata": {},
   "outputs": [
    {
     "name": "stdout",
     "output_type": "stream",
     "text": [
      "The number of roles through 1980 that were minor enough not to warrant a numeric \"n\" rank is: 186116\n"
     ]
    }
   ],
   "source": [
    "num_minor_roles_until_1980 = minor_roles_until_1980['character'].nunique()\n",
    "\n",
    "print(f'The number of roles through 1980 that were minor enough not to warrant a numeric \"n\" rank is: {num_minor_roles_until_1980}')"
   ]
  },
  {
   "cell_type": "markdown",
   "metadata": {},
   "source": [
    "###  **END - THANK YOU** "
   ]
  },
  {
   "cell_type": "code",
   "execution_count": null,
   "metadata": {},
   "outputs": [],
   "source": []
  }
 ],
 "metadata": {
  "kernelspec": {
   "display_name": "Python 3 (ipykernel)",
   "language": "python",
   "name": "python3"
  },
  "language_info": {
   "codemirror_mode": {
    "name": "ipython",
    "version": 3
   },
   "file_extension": ".py",
   "mimetype": "text/x-python",
   "name": "python",
   "nbconvert_exporter": "python",
   "pygments_lexer": "ipython3",
   "version": "3.11.5"
  }
 },
 "nbformat": 4,
 "nbformat_minor": 1
}
